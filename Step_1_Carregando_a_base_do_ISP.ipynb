{
  "nbformat": 4,
  "nbformat_minor": 0,
  "metadata": {
    "colab": {
      "name": "Step 1 - Carregando a base do ISP.ipynb",
      "provenance": [],
      "collapsed_sections": [],
      "toc_visible": true,
      "include_colab_link": true
    },
    "language_info": {
      "codemirror_mode": "r",
      "file_extension": ".r",
      "mimetype": "text/x-r-source",
      "name": "R",
      "pygments_lexer": "r",
      "version": "3.5.2"
    },
    "kernelspec": {
      "display_name": "R",
      "language": "R",
      "name": "ir"
    },
    "accelerator": "GPU"
  },
  "cells": [
    {
      "cell_type": "markdown",
      "metadata": {
        "id": "view-in-github",
        "colab_type": "text"
      },
      "source": [
        "<a href=\"https://colab.research.google.com/github/americofreitasjr/AnaliseSegurancaPublicaRJ/blob/master/Step_1_Carregando_a_base_do_ISP.ipynb\" target=\"_parent\"><img src=\"https://colab.research.google.com/assets/colab-badge.svg\" alt=\"Open In Colab\"/></a>"
      ]
    },
    {
      "cell_type": "markdown",
      "metadata": {
        "id": "MdDNBtXY4MG8",
        "colab_type": "text"
      },
      "source": [
        "# Índice\n",
        "\n",
        "\n",
        "\n",
        "1.   [Step_1_Carregando_a_base_do_ISP](https://github.com/americofreitasjr/AnaliseSegurancaPublicaRJ/blob/master/Step_1_Carregando_a_base_do_ISP.ipynb)\n",
        "2.   [Step_2_ISP_Analise_Exploratoria](https://github.com/americofreitasjr/AnaliseSegurancaPublicaRJ/blob/master/Step_2_ISP_Analise_Exploratoria.ipynb)\n",
        "3.   [Step_3_ISP_estudo_da_serie_historica](https://github.com/americofreitasjr/AnaliseSegurancaPublicaRJ/blob/master/Step_3_ISP_estudo_da_serie_historica.ipynb)\n",
        "4.   [Step_4_Carregando_bases_BETS](https://github.com/americofreitasjr/AnaliseSegurancaPublicaRJ/blob/master/Step_4_Carregando_bases_BETS.ipynb)\n",
        "\n",
        "\n",
        "\n"
      ]
    },
    {
      "cell_type": "markdown",
      "metadata": {
        "id": "zrIEG3K-p-Sk",
        "colab_type": "text"
      },
      "source": [
        "#Carregando a base do ISP"
      ]
    },
    {
      "cell_type": "markdown",
      "metadata": {
        "id": "fn8qIDWGqoQL",
        "colab_type": "text"
      },
      "source": [
        "\n",
        "Importando e instalando os pacotes"
      ]
    },
    {
      "cell_type": "code",
      "metadata": {
        "id": "FnZchyNoql8x",
        "colab_type": "code",
        "outputId": "9a4157e9-dec9-4007-e82f-f1a594cd1d72",
        "colab": {
          "base_uri": "https://localhost:8080/",
          "height": 34
        }
      },
      "source": [
        "options(warn=-1)\n",
        "\n",
        "requiredPackages = c('plyr')\n",
        "for(p in requiredPackages){\n",
        "  if(!require(p,character.only = TRUE)) suppressMessages(suppressWarnings(install.packages(p)))\n",
        "  suppressMessages(suppressWarnings(library(p,character.only = TRUE)))\n",
        "}"
      ],
      "execution_count": 0,
      "outputs": [
        {
          "output_type": "stream",
          "text": [
            "Loading required package: plyr\n"
          ],
          "name": "stderr"
        }
      ]
    },
    {
      "cell_type": "markdown",
      "metadata": {
        "id": "Szh_1xe2qKgc",
        "colab_type": "text"
      },
      "source": [
        "Definindo o caminho dos arquivos para download e as credenciais de acesso"
      ]
    },
    {
      "cell_type": "code",
      "metadata": {
        "id": "9_LKETLKp0y6",
        "colab_type": "code",
        "colab": {}
      },
      "source": [
        "user=\"mba\"\n",
        "pass=\"g3DxHEdWz7cLWyV7\"\n",
        "url=\"data.cienciacomdados.com.br\"\n",
        "fullUrl=paste0(\"https://\",user,\":\",pass,\"@\",url,\"/\")"
      ],
      "execution_count": 0,
      "outputs": []
    },
    {
      "cell_type": "markdown",
      "metadata": {
        "id": "oLGIqWIkqfLn",
        "colab_type": "text"
      },
      "source": [
        "Carregando os arquivos para os data frames\n"
      ]
    },
    {
      "cell_type": "code",
      "metadata": {
        "id": "EG5TriGyp0zC",
        "colab_type": "code",
        "colab": {}
      },
      "source": [
        "parte1 = read.csv2(file = paste0(fullUrl,\"pedido_022_2019_parte1.csv\"), header = TRUE, sep = \";\", encoding=\"UTF-8\")\n",
        "parte2 = read.csv2(file = paste0(fullUrl,\"pedido_022_2019_parte2.csv\"), header = TRUE, sep = \";\", encoding=\"UTF-8\")\n",
        "parte3 = read.csv2(file = paste0(fullUrl,\"pedido_022_2019_parte3.csv\"), header = TRUE, sep = \";\", encoding=\"UTF-8\")\n",
        "parte4 = read.csv2(file = paste0(fullUrl,\"pedido_022_2019_parte4.csv\"), header = TRUE, sep = \";\", encoding=\"UTF-8\")\n",
        "parte5 = read.csv2(file = paste0(fullUrl,\"pedido_022_2019_parte5.csv\"), header = TRUE, sep = \";\", encoding=\"UTF-8\")\n",
        "parte6 = read.csv2(file = paste0(fullUrl,\"pedido_022_2019_parte6.csv\"), header = TRUE, sep = \";\", encoding=\"UTF-8\")\n",
        "parte7 = read.csv2(file = paste0(fullUrl,\"pedido_022_2019_parte7.csv\"), header = TRUE, sep = \";\", encoding=\"UTF-8\")\n",
        "parte8 = read.csv2(file = paste0(fullUrl,\"pedido_022_2019_parte8.csv\"), header = TRUE, sep = \";\", encoding=\"UTF-8\")\n",
        "parte9 = read.csv2(file = paste0(fullUrl,\"pedido_022_2019_parte9.csv\"), header = TRUE, sep = \";\", encoding=\"UTF-8\")"
      ],
      "execution_count": 0,
      "outputs": []
    },
    {
      "cell_type": "markdown",
      "metadata": {
        "id": "wastyNkEqwe5",
        "colab_type": "text"
      },
      "source": [
        "Juntando todos os data frames em apenas um"
      ]
    },
    {
      "cell_type": "code",
      "metadata": {
        "id": "zqa9d5Xep0zK",
        "colab_type": "code",
        "colab": {}
      },
      "source": [
        "df_isp<-rbind.fill(parte1,parte2,parte3,parte4,parte5,parte6,parte7,parte8,parte9)"
      ],
      "execution_count": 0,
      "outputs": []
    },
    {
      "cell_type": "code",
      "metadata": {
        "id": "zYWYwSKhky-c",
        "colab_type": "code",
        "colab": {}
      },
      "source": [
        "save(df_isp,file=\"df_isp.RData\")"
      ],
      "execution_count": 0,
      "outputs": []
    }
  ]
}